{
 "cells": [
  {
   "cell_type": "code",
   "execution_count": 2,
   "metadata": {},
   "outputs": [],
   "source": [
    "import pandas as pd\n",
    "import os"
   ]
  },
  {
   "cell_type": "code",
   "execution_count": 9,
   "metadata": {},
   "outputs": [
    {
     "name": "stdout",
     "output_type": "stream",
     "text": [
      "💅 Pink tax for deodorant at Target:\n"
     ]
    },
    {
     "data": {
      "text/plain": [
       "is_girly\n",
       "no     11.610718\n",
       "yes    13.137170\n",
       "Name: Average Price, dtype: float64"
      ]
     },
     "execution_count": 9,
     "metadata": {},
     "output_type": "execute_result"
    }
   ],
   "source": [
    "file_name = 'deodorant_updated_file.csv'\n",
    "product_category = os.path.basename(file_name).split('_')[0]  # extracting category name\n",
    "print(f\"💅 Pink tax for {product_category} at Target:\")\n",
    "\n",
    "df = pd.read_csv(file_name)\n",
    "\n",
    "# function to convert price ranges to average price\n",
    "def convert_price(price):\n",
    "    if \" - \" in price:\n",
    "        low, high = price.split(\" - \")\n",
    "        low = float(low.replace(\"$\", \"\"))\n",
    "        high = float(high.replace(\"$\", \"\"))\n",
    "        return round((low + high) / 2, 2)\n",
    "    else:\n",
    "        return float(price.replace(\"$\", \"\"))\n",
    "\n",
    "# applying convert_price() function to create a new column for average prices\n",
    "df['Average Price'] = df['Price'].apply(convert_price)\n",
    "df.groupby('is_girly')['Average Price'].mean()\n"
   ]
  },
  {
   "cell_type": "code",
   "execution_count": 7,
   "metadata": {},
   "outputs": [],
   "source": [
    "# converting 'Product Name' to lowercase & check if it contains the word 'women' then set is_girly to 'yes'\n",
    "df.loc[df['Product Name'].str.lower().str.contains(\"women\"), 'is_girly'] = \"yes\"\n"
   ]
  },
  {
   "cell_type": "code",
   "execution_count": 8,
   "metadata": {},
   "outputs": [
    {
     "data": {
      "text/plain": [
       "is_girly\n",
       "no     11.778035\n",
       "yes    11.819483\n",
       "Name: Average Price, dtype: float64"
      ]
     },
     "execution_count": 8,
     "metadata": {},
     "output_type": "execute_result"
    }
   ],
   "source": [
    "# groupby 'is_girly' & calculate mean average price\n",
    "df.groupby('is_girly')['Average Price'].mean()"
   ]
  },
  {
   "cell_type": "code",
   "execution_count": null,
   "metadata": {},
   "outputs": [],
   "source": []
  }
 ],
 "metadata": {
  "kernelspec": {
   "display_name": ".venv",
   "language": "python",
   "name": "python3"
  },
  "language_info": {
   "codemirror_mode": {
    "name": "ipython",
    "version": 3
   },
   "file_extension": ".py",
   "mimetype": "text/x-python",
   "name": "python",
   "nbconvert_exporter": "python",
   "pygments_lexer": "ipython3",
   "version": "3.11.4"
  },
  "orig_nbformat": 4
 },
 "nbformat": 4,
 "nbformat_minor": 2
}
